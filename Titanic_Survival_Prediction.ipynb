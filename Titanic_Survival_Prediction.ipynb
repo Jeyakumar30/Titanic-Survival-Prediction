{
  "nbformat": 4,
  "nbformat_minor": 0,
  "metadata": {
    "colab": {
      "provenance": [],
      "toc_visible": true,
      "mount_file_id": "1F0i9zMXn-kTawI6CglP3IEvB408EctUD",
      "authorship_tag": "ABX9TyMBC3qOTdQEHeT0hrooMawu",
      "include_colab_link": true
    },
    "kernelspec": {
      "name": "python3",
      "display_name": "Python 3"
    },
    "language_info": {
      "name": "python"
    }
  },
  "cells": [
    {
      "cell_type": "markdown",
      "metadata": {
        "id": "view-in-github",
        "colab_type": "text"
      },
      "source": [
        "<a href=\"https://colab.research.google.com/github/Jeyakumar30/Titanic-Survival-Prediction/blob/main/Titanic_Survival_Prediction.ipynb\" target=\"_parent\"><img src=\"https://colab.research.google.com/assets/colab-badge.svg\" alt=\"Open In Colab\"/></a>"
      ]
    },
    {
      "cell_type": "markdown",
      "source": [
        "#***Titanic Survival Prediction***\n"
      ],
      "metadata": {
        "id": "OwPjiSKP_GgX"
      }
    },
    {
      "cell_type": "markdown",
      "source": [
        "#**Introduction**\n",
        "\n",
        "\n",
        "The sinking of the Titanic in 1912 was a tragic event that claimed the lives of many passengers. In this data science exploration, I delve into the Titanic dataset, aiming to build a predictive model that can answer the question: \"**What sorts of people were more likely to survive?**\"\n",
        "\n",
        "My analysis encompasses various steps, from data loading and cleaning to model training and evaluation. By leveraging machine learning techniques, I seek to uncover patterns within the dataset that shed light on the factors influencing survival."
      ],
      "metadata": {
        "id": "ODlzPZcZGh85"
      }
    },
    {
      "cell_type": "markdown",
      "source": [
        "#**Data Science Process**"
      ],
      "metadata": {
        "id": "9zIf-b6UGutl"
      }
    },
    {
      "cell_type": "markdown",
      "source": [
        "#I. Setting the Research Goal\n",
        "\n",
        "##**Research Goal:**\n",
        "To investigate and understand the factors influencing survival rates among passengers on the Titanic, utilizing machine learning techniques to build a predictive model.\n",
        "\n",
        "**Key Objectives:**\n",
        "\n",
        "1. Preprocessing\n",
        "2. Feature Importance\n",
        "3. Exploratory Data Analysis\n",
        "4. Predictive Modeling\n",
        "5. Model Evaluation\n",
        "6. Interpretation of results"
      ],
      "metadata": {
        "id": "JmFk0h1jBsds"
      }
    },
    {
      "cell_type": "markdown",
      "source": [
        "#II. Data Retrieval\n",
        "\n",
        "\n",
        "The dataset for this analysis was sourced from Kaggle, a platform known for hosting diverse datasets and fostering collaborative data science projects. The dataset, titled \"Titanic Survival Prediction Dataset\" encapsulates information about passengers aboard the Titanic, which sank in 1912.\n",
        "\n",
        "To acquire the dataset, a Kaggle account was created, and access was gained to the Titanic dataset through the Kaggle competition page. The dataset consist of a file: \"Titanic-Dataset.csv\". The CSV file is composed of the following attributes: socio-economic class, age, gender, siblings/spouses aboard, parents/children aboard, ticket details, fare, cabin, and embarkation port.\n",
        "\n",
        "\n",
        "Subsequently, the data was imported into a Google Colab Notebook environment for analysis, visualizations, and insights into the exploration of Titanic survival predictions."
      ],
      "metadata": {
        "id": "UbkJSYQ2CAcG"
      }
    },
    {
      "cell_type": "markdown",
      "source": [
        "###Importing Required Libraries\n"
      ],
      "metadata": {
        "id": "Ukv8-DhomGV_"
      }
    },
    {
      "cell_type": "code",
      "source": [
        "import numpy as np\n",
        "import pandas as pd\n",
        "\n",
        "import seaborn as sns\n",
        "import matplotlib.pyplot as plt\n",
        "%matplotlib inline\n",
        "\n",
        "from sklearn.model_selection import train_test_split\n",
        "\n",
        "from sklearn.ensemble import RandomForestClassifier\n",
        "from sklearn.linear_model import LogisticRegression\n",
        "from sklearn.tree import DecisionTreeClassifier\n",
        "from sklearn.svm import SVC\n",
        "from sklearn.naive_bayes import GaussianNB\n",
        "from sklearn.neighbors import KNeighborsClassifier\n",
        "\n",
        "from sklearn.metrics import accuracy_score, classification_report, confusion_matrix\n",
        "\n",
        "from joblib import dump, load"
      ],
      "metadata": {
        "id": "iWXsFxJR_KLC"
      },
      "execution_count": null,
      "outputs": []
    },
    {
      "cell_type": "markdown",
      "source": [
        "###Loading Data"
      ],
      "metadata": {
        "id": "__Dx32oRmxsz"
      }
    },
    {
      "cell_type": "code",
      "source": [
        "titanic_data = pd.read_csv('/content/drive/MyDrive/Data Science Projects/CodSoft Internship/Titanic-Dataset.csv')\n",
        "titanic_data.head()"
      ],
      "metadata": {
        "colab": {
          "base_uri": "https://localhost:8080/",
          "height": 206
        },
        "id": "KT6Hw3ntm1kf",
        "outputId": "9e9d18cb-e972-44c4-da6e-f254f32ccdf3"
      },
      "execution_count": null,
      "outputs": [
        {
          "output_type": "execute_result",
          "data": {
            "text/plain": [
              "   PassengerId  Survived  Pclass  \\\n",
              "0            1         0       3   \n",
              "1            2         1       1   \n",
              "2            3         1       3   \n",
              "3            4         1       1   \n",
              "4            5         0       3   \n",
              "\n",
              "                                                Name     Sex   Age  SibSp  \\\n",
              "0                            Braund, Mr. Owen Harris    male  22.0      1   \n",
              "1  Cumings, Mrs. John Bradley (Florence Briggs Th...  female  38.0      1   \n",
              "2                             Heikkinen, Miss. Laina  female  26.0      0   \n",
              "3       Futrelle, Mrs. Jacques Heath (Lily May Peel)  female  35.0      1   \n",
              "4                           Allen, Mr. William Henry    male  35.0      0   \n",
              "\n",
              "   Parch            Ticket     Fare Cabin Embarked  \n",
              "0      0         A/5 21171   7.2500   NaN        S  \n",
              "1      0          PC 17599  71.2833   C85        C  \n",
              "2      0  STON/O2. 3101282   7.9250   NaN        S  \n",
              "3      0            113803  53.1000  C123        S  \n",
              "4      0            373450   8.0500   NaN        S  "
            ],
            "text/html": [
              "\n",
              "  <div id=\"df-b4623409-810f-4bc9-bae6-d3d7cf04cfce\" class=\"colab-df-container\">\n",
              "    <div>\n",
              "<style scoped>\n",
              "    .dataframe tbody tr th:only-of-type {\n",
              "        vertical-align: middle;\n",
              "    }\n",
              "\n",
              "    .dataframe tbody tr th {\n",
              "        vertical-align: top;\n",
              "    }\n",
              "\n",
              "    .dataframe thead th {\n",
              "        text-align: right;\n",
              "    }\n",
              "</style>\n",
              "<table border=\"1\" class=\"dataframe\">\n",
              "  <thead>\n",
              "    <tr style=\"text-align: right;\">\n",
              "      <th></th>\n",
              "      <th>PassengerId</th>\n",
              "      <th>Survived</th>\n",
              "      <th>Pclass</th>\n",
              "      <th>Name</th>\n",
              "      <th>Sex</th>\n",
              "      <th>Age</th>\n",
              "      <th>SibSp</th>\n",
              "      <th>Parch</th>\n",
              "      <th>Ticket</th>\n",
              "      <th>Fare</th>\n",
              "      <th>Cabin</th>\n",
              "      <th>Embarked</th>\n",
              "    </tr>\n",
              "  </thead>\n",
              "  <tbody>\n",
              "    <tr>\n",
              "      <th>0</th>\n",
              "      <td>1</td>\n",
              "      <td>0</td>\n",
              "      <td>3</td>\n",
              "      <td>Braund, Mr. Owen Harris</td>\n",
              "      <td>male</td>\n",
              "      <td>22.0</td>\n",
              "      <td>1</td>\n",
              "      <td>0</td>\n",
              "      <td>A/5 21171</td>\n",
              "      <td>7.2500</td>\n",
              "      <td>NaN</td>\n",
              "      <td>S</td>\n",
              "    </tr>\n",
              "    <tr>\n",
              "      <th>1</th>\n",
              "      <td>2</td>\n",
              "      <td>1</td>\n",
              "      <td>1</td>\n",
              "      <td>Cumings, Mrs. John Bradley (Florence Briggs Th...</td>\n",
              "      <td>female</td>\n",
              "      <td>38.0</td>\n",
              "      <td>1</td>\n",
              "      <td>0</td>\n",
              "      <td>PC 17599</td>\n",
              "      <td>71.2833</td>\n",
              "      <td>C85</td>\n",
              "      <td>C</td>\n",
              "    </tr>\n",
              "    <tr>\n",
              "      <th>2</th>\n",
              "      <td>3</td>\n",
              "      <td>1</td>\n",
              "      <td>3</td>\n",
              "      <td>Heikkinen, Miss. Laina</td>\n",
              "      <td>female</td>\n",
              "      <td>26.0</td>\n",
              "      <td>0</td>\n",
              "      <td>0</td>\n",
              "      <td>STON/O2. 3101282</td>\n",
              "      <td>7.9250</td>\n",
              "      <td>NaN</td>\n",
              "      <td>S</td>\n",
              "    </tr>\n",
              "    <tr>\n",
              "      <th>3</th>\n",
              "      <td>4</td>\n",
              "      <td>1</td>\n",
              "      <td>1</td>\n",
              "      <td>Futrelle, Mrs. Jacques Heath (Lily May Peel)</td>\n",
              "      <td>female</td>\n",
              "      <td>35.0</td>\n",
              "      <td>1</td>\n",
              "      <td>0</td>\n",
              "      <td>113803</td>\n",
              "      <td>53.1000</td>\n",
              "      <td>C123</td>\n",
              "      <td>S</td>\n",
              "    </tr>\n",
              "    <tr>\n",
              "      <th>4</th>\n",
              "      <td>5</td>\n",
              "      <td>0</td>\n",
              "      <td>3</td>\n",
              "      <td>Allen, Mr. William Henry</td>\n",
              "      <td>male</td>\n",
              "      <td>35.0</td>\n",
              "      <td>0</td>\n",
              "      <td>0</td>\n",
              "      <td>373450</td>\n",
              "      <td>8.0500</td>\n",
              "      <td>NaN</td>\n",
              "      <td>S</td>\n",
              "    </tr>\n",
              "  </tbody>\n",
              "</table>\n",
              "</div>\n",
              "    <div class=\"colab-df-buttons\">\n",
              "\n",
              "  <div class=\"colab-df-container\">\n",
              "    <button class=\"colab-df-convert\" onclick=\"convertToInteractive('df-b4623409-810f-4bc9-bae6-d3d7cf04cfce')\"\n",
              "            title=\"Convert this dataframe to an interactive table.\"\n",
              "            style=\"display:none;\">\n",
              "\n",
              "  <svg xmlns=\"http://www.w3.org/2000/svg\" height=\"24px\" viewBox=\"0 -960 960 960\">\n",
              "    <path d=\"M120-120v-720h720v720H120Zm60-500h600v-160H180v160Zm220 220h160v-160H400v160Zm0 220h160v-160H400v160ZM180-400h160v-160H180v160Zm440 0h160v-160H620v160ZM180-180h160v-160H180v160Zm440 0h160v-160H620v160Z\"/>\n",
              "  </svg>\n",
              "    </button>\n",
              "\n",
              "  <style>\n",
              "    .colab-df-container {\n",
              "      display:flex;\n",
              "      gap: 12px;\n",
              "    }\n",
              "\n",
              "    .colab-df-convert {\n",
              "      background-color: #E8F0FE;\n",
              "      border: none;\n",
              "      border-radius: 50%;\n",
              "      cursor: pointer;\n",
              "      display: none;\n",
              "      fill: #1967D2;\n",
              "      height: 32px;\n",
              "      padding: 0 0 0 0;\n",
              "      width: 32px;\n",
              "    }\n",
              "\n",
              "    .colab-df-convert:hover {\n",
              "      background-color: #E2EBFA;\n",
              "      box-shadow: 0px 1px 2px rgba(60, 64, 67, 0.3), 0px 1px 3px 1px rgba(60, 64, 67, 0.15);\n",
              "      fill: #174EA6;\n",
              "    }\n",
              "\n",
              "    .colab-df-buttons div {\n",
              "      margin-bottom: 4px;\n",
              "    }\n",
              "\n",
              "    [theme=dark] .colab-df-convert {\n",
              "      background-color: #3B4455;\n",
              "      fill: #D2E3FC;\n",
              "    }\n",
              "\n",
              "    [theme=dark] .colab-df-convert:hover {\n",
              "      background-color: #434B5C;\n",
              "      box-shadow: 0px 1px 3px 1px rgba(0, 0, 0, 0.15);\n",
              "      filter: drop-shadow(0px 1px 2px rgba(0, 0, 0, 0.3));\n",
              "      fill: #FFFFFF;\n",
              "    }\n",
              "  </style>\n",
              "\n",
              "    <script>\n",
              "      const buttonEl =\n",
              "        document.querySelector('#df-b4623409-810f-4bc9-bae6-d3d7cf04cfce button.colab-df-convert');\n",
              "      buttonEl.style.display =\n",
              "        google.colab.kernel.accessAllowed ? 'block' : 'none';\n",
              "\n",
              "      async function convertToInteractive(key) {\n",
              "        const element = document.querySelector('#df-b4623409-810f-4bc9-bae6-d3d7cf04cfce');\n",
              "        const dataTable =\n",
              "          await google.colab.kernel.invokeFunction('convertToInteractive',\n",
              "                                                    [key], {});\n",
              "        if (!dataTable) return;\n",
              "\n",
              "        const docLinkHtml = 'Like what you see? Visit the ' +\n",
              "          '<a target=\"_blank\" href=https://colab.research.google.com/notebooks/data_table.ipynb>data table notebook</a>'\n",
              "          + ' to learn more about interactive tables.';\n",
              "        element.innerHTML = '';\n",
              "        dataTable['output_type'] = 'display_data';\n",
              "        await google.colab.output.renderOutput(dataTable, element);\n",
              "        const docLink = document.createElement('div');\n",
              "        docLink.innerHTML = docLinkHtml;\n",
              "        element.appendChild(docLink);\n",
              "      }\n",
              "    </script>\n",
              "  </div>\n",
              "\n",
              "\n",
              "<div id=\"df-0844e7f2-0231-4bb3-9283-b18121c307bd\">\n",
              "  <button class=\"colab-df-quickchart\" onclick=\"quickchart('df-0844e7f2-0231-4bb3-9283-b18121c307bd')\"\n",
              "            title=\"Suggest charts\"\n",
              "            style=\"display:none;\">\n",
              "\n",
              "<svg xmlns=\"http://www.w3.org/2000/svg\" height=\"24px\"viewBox=\"0 0 24 24\"\n",
              "     width=\"24px\">\n",
              "    <g>\n",
              "        <path d=\"M19 3H5c-1.1 0-2 .9-2 2v14c0 1.1.9 2 2 2h14c1.1 0 2-.9 2-2V5c0-1.1-.9-2-2-2zM9 17H7v-7h2v7zm4 0h-2V7h2v10zm4 0h-2v-4h2v4z\"/>\n",
              "    </g>\n",
              "</svg>\n",
              "  </button>\n",
              "\n",
              "<style>\n",
              "  .colab-df-quickchart {\n",
              "      --bg-color: #E8F0FE;\n",
              "      --fill-color: #1967D2;\n",
              "      --hover-bg-color: #E2EBFA;\n",
              "      --hover-fill-color: #174EA6;\n",
              "      --disabled-fill-color: #AAA;\n",
              "      --disabled-bg-color: #DDD;\n",
              "  }\n",
              "\n",
              "  [theme=dark] .colab-df-quickchart {\n",
              "      --bg-color: #3B4455;\n",
              "      --fill-color: #D2E3FC;\n",
              "      --hover-bg-color: #434B5C;\n",
              "      --hover-fill-color: #FFFFFF;\n",
              "      --disabled-bg-color: #3B4455;\n",
              "      --disabled-fill-color: #666;\n",
              "  }\n",
              "\n",
              "  .colab-df-quickchart {\n",
              "    background-color: var(--bg-color);\n",
              "    border: none;\n",
              "    border-radius: 50%;\n",
              "    cursor: pointer;\n",
              "    display: none;\n",
              "    fill: var(--fill-color);\n",
              "    height: 32px;\n",
              "    padding: 0;\n",
              "    width: 32px;\n",
              "  }\n",
              "\n",
              "  .colab-df-quickchart:hover {\n",
              "    background-color: var(--hover-bg-color);\n",
              "    box-shadow: 0 1px 2px rgba(60, 64, 67, 0.3), 0 1px 3px 1px rgba(60, 64, 67, 0.15);\n",
              "    fill: var(--button-hover-fill-color);\n",
              "  }\n",
              "\n",
              "  .colab-df-quickchart-complete:disabled,\n",
              "  .colab-df-quickchart-complete:disabled:hover {\n",
              "    background-color: var(--disabled-bg-color);\n",
              "    fill: var(--disabled-fill-color);\n",
              "    box-shadow: none;\n",
              "  }\n",
              "\n",
              "  .colab-df-spinner {\n",
              "    border: 2px solid var(--fill-color);\n",
              "    border-color: transparent;\n",
              "    border-bottom-color: var(--fill-color);\n",
              "    animation:\n",
              "      spin 1s steps(1) infinite;\n",
              "  }\n",
              "\n",
              "  @keyframes spin {\n",
              "    0% {\n",
              "      border-color: transparent;\n",
              "      border-bottom-color: var(--fill-color);\n",
              "      border-left-color: var(--fill-color);\n",
              "    }\n",
              "    20% {\n",
              "      border-color: transparent;\n",
              "      border-left-color: var(--fill-color);\n",
              "      border-top-color: var(--fill-color);\n",
              "    }\n",
              "    30% {\n",
              "      border-color: transparent;\n",
              "      border-left-color: var(--fill-color);\n",
              "      border-top-color: var(--fill-color);\n",
              "      border-right-color: var(--fill-color);\n",
              "    }\n",
              "    40% {\n",
              "      border-color: transparent;\n",
              "      border-right-color: var(--fill-color);\n",
              "      border-top-color: var(--fill-color);\n",
              "    }\n",
              "    60% {\n",
              "      border-color: transparent;\n",
              "      border-right-color: var(--fill-color);\n",
              "    }\n",
              "    80% {\n",
              "      border-color: transparent;\n",
              "      border-right-color: var(--fill-color);\n",
              "      border-bottom-color: var(--fill-color);\n",
              "    }\n",
              "    90% {\n",
              "      border-color: transparent;\n",
              "      border-bottom-color: var(--fill-color);\n",
              "    }\n",
              "  }\n",
              "</style>\n",
              "\n",
              "  <script>\n",
              "    async function quickchart(key) {\n",
              "      const quickchartButtonEl =\n",
              "        document.querySelector('#' + key + ' button');\n",
              "      quickchartButtonEl.disabled = true;  // To prevent multiple clicks.\n",
              "      quickchartButtonEl.classList.add('colab-df-spinner');\n",
              "      try {\n",
              "        const charts = await google.colab.kernel.invokeFunction(\n",
              "            'suggestCharts', [key], {});\n",
              "      } catch (error) {\n",
              "        console.error('Error during call to suggestCharts:', error);\n",
              "      }\n",
              "      quickchartButtonEl.classList.remove('colab-df-spinner');\n",
              "      quickchartButtonEl.classList.add('colab-df-quickchart-complete');\n",
              "    }\n",
              "    (() => {\n",
              "      let quickchartButtonEl =\n",
              "        document.querySelector('#df-0844e7f2-0231-4bb3-9283-b18121c307bd button');\n",
              "      quickchartButtonEl.style.display =\n",
              "        google.colab.kernel.accessAllowed ? 'block' : 'none';\n",
              "    })();\n",
              "  </script>\n",
              "</div>\n",
              "\n",
              "    </div>\n",
              "  </div>\n"
            ]
          },
          "metadata": {},
          "execution_count": 33
        }
      ]
    },
    {
      "cell_type": "markdown",
      "source": [
        "###Understanding Data\n",
        "\n",
        "\n",
        "1. **PassengerId:** A unique identifier for each passenger.\n",
        "2. **Survived:** Binary indicator (0 or 1) representing whether the passenger survived (1) or not (0).\n",
        "3. **Pclass (Ticket Class):** Socio-economic class of the passenger (1st, 2nd, or 3rd).\n",
        "4. **Name:** Full name of the passenger, including title (e.g., Mr., Mrs., Miss).\n",
        "5. **Sex:** Gender of the passenger (male or female).\n",
        "6. **Age:** Age of the passenger.\n",
        "7. **SibSp:** Number of siblings/spouses aboard the Titanic.\n",
        "8. **Parch:** Number of parents/children aboard the Titanic.\n",
        "9. **Ticket:** Ticket number.\n",
        "10. **Fare:** Passenger fare.\n",
        "11. **Cabin:** Cabin number where the passenger stayed.\n",
        "12. **Embarked:** Port of embarkation (C = Cherbourg, Q = Queenstown, S = Southampton)."
      ],
      "metadata": {
        "id": "hVh3vXfgpO2V"
      }
    },
    {
      "cell_type": "markdown",
      "source": [
        "#III. Data Preparation"
      ],
      "metadata": {
        "id": "Qfbud_zFCArl"
      }
    },
    {
      "cell_type": "markdown",
      "source": [
        "##1. Data Cleansing"
      ],
      "metadata": {
        "id": "1R4oyMLxFJHv"
      }
    },
    {
      "cell_type": "markdown",
      "source": [
        "###Handling Missing Values\n",
        "\n",
        " Let us check the total number of missing values in each column."
      ],
      "metadata": {
        "id": "_myOWtMDojqT"
      }
    },
    {
      "cell_type": "code",
      "source": [
        "# Checking for missing values in the entire dataset\n",
        "print(titanic_data.isnull().sum())"
      ],
      "metadata": {
        "colab": {
          "base_uri": "https://localhost:8080/"
        },
        "id": "5t6W5w14o3Ak",
        "outputId": "3cc6048d-e6fe-4fa9-b965-96c2f809c523"
      },
      "execution_count": null,
      "outputs": [
        {
          "output_type": "stream",
          "name": "stdout",
          "text": [
            "PassengerId      0\n",
            "Survived         0\n",
            "Pclass           0\n",
            "Name             0\n",
            "Sex              0\n",
            "Age            177\n",
            "SibSp            0\n",
            "Parch            0\n",
            "Ticket           0\n",
            "Fare             0\n",
            "Cabin          687\n",
            "Embarked         2\n",
            "dtype: int64\n"
          ]
        }
      ]
    },
    {
      "cell_type": "markdown",
      "source": [
        "It seems **Age** and **Cabin** Column contains significant number of Null values. Lets try to fix them.\n",
        "\n"
      ],
      "metadata": {
        "id": "wyCUzkDStA84"
      }
    },
    {
      "cell_type": "code",
      "source": [
        "# Filling missing values in 'Age' with the median age\n",
        "titanic_data['Age'].fillna(titanic_data['Age'].median(), inplace=True)"
      ],
      "metadata": {
        "id": "ubkoI8PLtB4t"
      },
      "execution_count": null,
      "outputs": []
    },
    {
      "cell_type": "markdown",
      "source": [
        "Almost 75% of observations present in **Cabin** column is null. So, better we can remove the entire column as it is not required for predicting dependent variable."
      ],
      "metadata": {
        "id": "fQV-Hjh1w5YL"
      }
    },
    {
      "cell_type": "code",
      "source": [
        "# Droping the 'Cabin' column\n",
        "titanic_data.drop('Cabin', axis=1, inplace=True)"
      ],
      "metadata": {
        "id": "EWhi4E5KxdG-"
      },
      "execution_count": null,
      "outputs": []
    },
    {
      "cell_type": "markdown",
      "source": [
        "Since there are only two missing values in **Embarked** column. So, I considered filling them with the most common port of embarkation."
      ],
      "metadata": {
        "id": "JtotVh42ztMY"
      }
    },
    {
      "cell_type": "code",
      "source": [
        "# Checking the distribution of values in 'Embarked'\n",
        "print(titanic_data['Embarked'].value_counts())\n"
      ],
      "metadata": {
        "colab": {
          "base_uri": "https://localhost:8080/"
        },
        "id": "E_Gpm9f7zZBx",
        "outputId": "d54e477f-92c7-4a4a-fe48-e6f1f7047857"
      },
      "execution_count": null,
      "outputs": [
        {
          "output_type": "stream",
          "name": "stdout",
          "text": [
            "S    644\n",
            "C    168\n",
            "Q     77\n",
            "Name: Embarked, dtype: int64\n"
          ]
        }
      ]
    },
    {
      "cell_type": "code",
      "source": [
        "# Filled missing values in 'Embarked' with the most common port\n",
        "most_common_port = titanic_data['Embarked'].mode()[0]\n",
        "titanic_data['Embarked'].fillna(most_common_port, inplace=True)\n",
        "\n",
        "print(titanic_data.isnull().sum())"
      ],
      "metadata": {
        "colab": {
          "base_uri": "https://localhost:8080/"
        },
        "id": "izzjWET3zcip",
        "outputId": "45119209-2608-4eaa-8847-1d92719c1afc"
      },
      "execution_count": null,
      "outputs": [
        {
          "output_type": "stream",
          "name": "stdout",
          "text": [
            "PassengerId    0\n",
            "Survived       0\n",
            "Pclass         0\n",
            "Name           0\n",
            "Sex            0\n",
            "Age            0\n",
            "SibSp          0\n",
            "Parch          0\n",
            "Ticket         0\n",
            "Fare           0\n",
            "Embarked       0\n",
            "dtype: int64\n"
          ]
        }
      ]
    },
    {
      "cell_type": "markdown",
      "source": [
        "###Checking for Outlier"
      ],
      "metadata": {
        "id": "L6_cSCFSJQ-C"
      }
    },
    {
      "cell_type": "code",
      "source": [
        "#Checking for Outliers\n",
        "plt.figure(figsize=(10, 6))\n",
        "\n",
        "# Creating box plots for 'Age' and 'Fare'\n",
        "plt.subplot(1, 2, 1)\n",
        "sns.boxplot(x='Age', data=titanic_data)\n",
        "plt.title('Box Plot for Age')\n",
        "\n",
        "plt.subplot(1, 2, 2)\n",
        "sns.boxplot(x='Fare', data=titanic_data)\n",
        "plt.title('Box Plot for Fare')\n",
        "\n",
        "plt.show()\n"
      ],
      "metadata": {
        "colab": {
          "base_uri": "https://localhost:8080/",
          "height": 564
        },
        "id": "tprQOwBt1GAK",
        "outputId": "1b0afab1-8aad-4409-f624-4a7804592193"
      },
      "execution_count": null,
      "outputs": [
        {
          "output_type": "display_data",
          "data": {
            "text/plain": [
              "<Figure size 1000x600 with 2 Axes>"
            ],
            "image/png": "[encoded data removed]"
          },
          "metadata": {}
        }
      ]
    },
    {
      "cell_type": "code",
      "source": [
        "# Removing rows with Fare > 300\n",
        "titanic_data = titanic_data[titanic_data['Fare'] < 300]\n",
        "titanic_data.shape #Only one observation discarded"
      ],
      "metadata": {
        "colab": {
          "base_uri": "https://localhost:8080/"
        },
        "id": "K4-bVf1H2Xs8",
        "outputId": "03cc6040-ab60-48df-c2e8-0dd1b85c0770"
      },
      "execution_count": null,
      "outputs": [
        {
          "output_type": "execute_result",
          "data": {
            "text/plain": [
              "(888, 11)"
            ]
          },
          "metadata": {},
          "execution_count": 40
        }
      ]
    },
    {
      "cell_type": "markdown",
      "source": [
        "Now, the data cleaning is over. Let's move on to the next step of data processing."
      ],
      "metadata": {
        "id": "syStHuW73NRD"
      }
    },
    {
      "cell_type": "markdown",
      "source": [
        "##2. Data Transformation"
      ],
      "metadata": {
        "id": "lC0SRTqfFjIB"
      }
    },
    {
      "cell_type": "markdown",
      "source": [
        "###Reducing Number of variables\n",
        "\n",
        "Let us remove the variables that are not needed for our analysis and making prediction as we already did for **Cabin** column.\n",
        "\n",
        "The following columns are not required:\n",
        "\n",
        "1. PassengerId\n",
        "2. Name\n",
        "3. Ticket\n",
        "\n",
        "Let's try to remove them\n",
        "\n",
        "\n",
        "\n"
      ],
      "metadata": {
        "id": "CZ2LwVWA4rgI"
      }
    },
    {
      "cell_type": "code",
      "source": [
        "# Dropping unnecessary columns\n",
        "titanic_data.drop(['PassengerId', 'Name', 'Ticket'], axis=1, inplace=True)"
      ],
      "metadata": {
        "id": "l4SrRMCR43N5",
        "colab": {
          "base_uri": "https://localhost:8080/"
        },
        "outputId": "c59d1212-e114-49ac-a80d-9f436f5ef6c5"
      },
      "execution_count": null,
      "outputs": [
        {
          "output_type": "stream",
          "name": "stderr",
          "text": [
            "<ipython-input-41-7b5e887a4f88>:2: SettingWithCopyWarning: \n",
            "A value is trying to be set on a copy of a slice from a DataFrame\n",
            "\n",
            "See the caveats in the documentation: https://pandas.pydata.org/pandas-docs/stable/user_guide/indexing.html#returning-a-view-versus-a-copy\n",
            "  titanic_data.drop(['PassengerId', 'Name', 'Ticket'], axis=1, inplace=True)\n"
          ]
        }
      ]
    },
    {
      "cell_type": "markdown",
      "source": [
        "###Creating Dummies\n"
      ],
      "metadata": {
        "id": "JWkAPMuPorXG"
      }
    },
    {
      "cell_type": "code",
      "source": [
        "# One-hot encode categorical variables\n",
        "titanic_data = pd.get_dummies(titanic_data, columns=['Sex'], drop_first=True)\n",
        "\n",
        "titanic_data = pd.get_dummies(titanic_data, columns=['Embarked'], drop_first=True)\n"
      ],
      "metadata": {
        "id": "MNdQcQHl6ESK"
      },
      "execution_count": null,
      "outputs": []
    },
    {
      "cell_type": "markdown",
      "source": [
        "1 in Embarked_Q indicates Q port for Embarkment\n",
        "\n",
        "1 in Embarked_S indicates S port and\n",
        "\n",
        "0 in both the cases indicates C port."
      ],
      "metadata": {
        "id": "84Obzd3GIp2Z"
      }
    },
    {
      "cell_type": "code",
      "source": [
        "titanic_data.tail()"
      ],
      "metadata": {
        "colab": {
          "base_uri": "https://localhost:8080/",
          "height": 206
        },
        "id": "VrdzKQtE6jya",
        "outputId": "f0e0e370-2dec-44b6-af77-832461f86d68"
      },
      "execution_count": null,
      "outputs": [
        {
          "output_type": "execute_result",
          "data": {
            "text/plain": [
              "     Survived  Pclass   Age  SibSp  Parch   Fare  Sex_male  Embarked_Q  \\\n",
              "886         0       2  27.0      0      0  13.00         1           0   \n",
              "887         1       1  19.0      0      0  30.00         0           0   \n",
              "888         0       3  28.0      1      2  23.45         0           0   \n",
              "889         1       1  26.0      0      0  30.00         1           0   \n",
              "890         0       3  32.0      0      0   7.75         1           1   \n",
              "\n",
              "     Embarked_S  \n",
              "886           1  \n",
              "887           1  \n",
              "888           1  \n",
              "889           0  \n",
              "890           0  "
            ],
            "text/html": [
              "\n",
              "  <div id=\"df-1ca9092f-ca76-4b73-93ef-4e65c582f852\" class=\"colab-df-container\">\n",
              "    <div>\n",
              "<style scoped>\n",
              "    .dataframe tbody tr th:only-of-type {\n",
              "        vertical-align: middle;\n",
              "    }\n",
              "\n",
              "    .dataframe tbody tr th {\n",
              "        vertical-align: top;\n",
              "    }\n",
              "\n",
              "    .dataframe thead th {\n",
              "        text-align: right;\n",
              "    }\n",
              "</style>\n",
              "<table border=\"1\" class=\"dataframe\">\n",
              "  <thead>\n",
              "    <tr style=\"text-align: right;\">\n",
              "      <th></th>\n",
              "      <th>Survived</th>\n",
              "      <th>Pclass</th>\n",
              "      <th>Age</th>\n",
              "      <th>SibSp</th>\n",
              "      <th>Parch</th>\n",
              "      <th>Fare</th>\n",
              "      <th>Sex_male</th>\n",
              "      <th>Embarked_Q</th>\n",
              "      <th>Embarked_S</th>\n",
              "    </tr>\n",
              "  </thead>\n",
              "  <tbody>\n",
              "    <tr>\n",
              "      <th>886</th>\n",
              "      <td>0</td>\n",
              "      <td>2</td>\n",
              "      <td>27.0</td>\n",
              "      <td>0</td>\n",
              "      <td>0</td>\n",
              "      <td>13.00</td>\n",
              "      <td>1</td>\n",
              "      <td>0</td>\n",
              "      <td>1</td>\n",
              "    </tr>\n",
              "    <tr>\n",
              "      <th>887</th>\n",
              "      <td>1</td>\n",
              "      <td>1</td>\n",
              "      <td>19.0</td>\n",
              "      <td>0</td>\n",
              "      <td>0</td>\n",
              "      <td>30.00</td>\n",
              "      <td>0</td>\n",
              "      <td>0</td>\n",
              "      <td>1</td>\n",
              "    </tr>\n",
              "    <tr>\n",
              "      <th>888</th>\n",
              "      <td>0</td>\n",
              "      <td>3</td>\n",
              "      <td>28.0</td>\n",
              "      <td>1</td>\n",
              "      <td>2</td>\n",
              "      <td>23.45</td>\n",
              "      <td>0</td>\n",
              "      <td>0</td>\n",
              "      <td>1</td>\n",
              "    </tr>\n",
              "    <tr>\n",
              "      <th>889</th>\n",
              "      <td>1</td>\n",
              "      <td>1</td>\n",
              "      <td>26.0</td>\n",
              "      <td>0</td>\n",
              "      <td>0</td>\n",
              "      <td>30.00</td>\n",
              "      <td>1</td>\n",
              "      <td>0</td>\n",
              "      <td>0</td>\n",
              "    </tr>\n",
              "    <tr>\n",
              "      <th>890</th>\n",
              "      <td>0</td>\n",
              "      <td>3</td>\n",
              "      <td>32.0</td>\n",
              "      <td>0</td>\n",
              "      <td>0</td>\n",
              "      <td>7.75</td>\n",
              "      <td>1</td>\n",
              "      <td>1</td>\n",
              "      <td>0</td>\n",
              "    </tr>\n",
              "  </tbody>\n",
              "</table>\n",
              "</div>\n",
              "    <div class=\"colab-df-buttons\">\n",
              "\n",
              "  <div class=\"colab-df-container\">\n",
              "    <button class=\"colab-df-convert\" onclick=\"convertToInteractive('df-1ca9092f-ca76-4b73-93ef-4e65c582f852')\"\n",
              "            title=\"Convert this dataframe to an interactive table.\"\n",
              "            style=\"display:none;\">\n",
              "\n",
              "  <svg xmlns=\"http://www.w3.org/2000/svg\" height=\"24px\" viewBox=\"0 -960 960 960\">\n",
              "    <path d=\"M120-120v-720h720v720H120Zm60-500h600v-160H180v160Zm220 220h160v-160H400v160Zm0 220h160v-160H400v160ZM180-400h160v-160H180v160Zm440 0h160v-160H620v160ZM180-180h160v-160H180v160Zm440 0h160v-160H620v160Z\"/>\n",
              "  </svg>\n",
              "    </button>\n",
              "\n",
              "  <style>\n",
              "    .colab-df-container {\n",
              "      display:flex;\n",
              "      gap: 12px;\n",
              "    }\n",
              "\n",
              "    .colab-df-convert {\n",
              "      background-color: #E8F0FE;\n",
              "      border: none;\n",
              "      border-radius: 50%;\n",
              "      cursor: pointer;\n",
              "      display: none;\n",
              "      fill: #1967D2;\n",
              "      height: 32px;\n",
              "      padding: 0 0 0 0;\n",
              "      width: 32px;\n",
              "    }\n",
              "\n",
              "    .colab-df-convert:hover {\n",
              "      background-color: #E2EBFA;\n",
              "      box-shadow: 0px 1px 2px rgba(60, 64, 67, 0.3), 0px 1px 3px 1px rgba(60, 64, 67, 0.15);\n",
              "      fill: #174EA6;\n",
              "    }\n",
              "\n",
              "    .colab-df-buttons div {\n",
              "      margin-bottom: 4px;\n",
              "    }\n",
              "\n",
              "    [theme=dark] .colab-df-convert {\n",
              "      background-color: #3B4455;\n",
              "      fill: #D2E3FC;\n",
              "    }\n",
              "\n",
              "    [theme=dark] .colab-df-convert:hover {\n",
              "      background-color: #434B5C;\n",
              "      box-shadow: 0px 1px 3px 1px rgba(0, 0, 0, 0.15);\n",
              "      filter: drop-shadow(0px 1px 2px rgba(0, 0, 0, 0.3));\n",
              "      fill: #FFFFFF;\n",
              "    }\n",
              "  </style>\n",
              "\n",
              "    <script>\n",
              "      const buttonEl =\n",
              "        document.querySelector('#df-1ca9092f-ca76-4b73-93ef-4e65c582f852 button.colab-df-convert');\n",
              "      buttonEl.style.display =\n",
              "        google.colab.kernel.accessAllowed ? 'block' : 'none';\n",
              "\n",
              "      async function convertToInteractive(key) {\n",
              "        const element = document.querySelector('#df-1ca9092f-ca76-4b73-93ef-4e65c582f852');\n",
              "        const dataTable =\n",
              "          await google.colab.kernel.invokeFunction('convertToInteractive',\n",
              "                                                    [key], {});\n",
              "        if (!dataTable) return;\n",
              "\n",
              "        const docLinkHtml = 'Like what you see? Visit the ' +\n",
              "          '<a target=\"_blank\" href=https://colab.research.google.com/notebooks/data_table.ipynb>data table notebook</a>'\n",
              "          + ' to learn more about interactive tables.';\n",
              "        element.innerHTML = '';\n",
              "        dataTable['output_type'] = 'display_data';\n",
              "        await google.colab.output.renderOutput(dataTable, element);\n",
              "        const docLink = document.createElement('div');\n",
              "        docLink.innerHTML = docLinkHtml;\n",
              "        element.appendChild(docLink);\n",
              "      }\n",
              "    </script>\n",
              "  </div>\n",
              "\n",
              "\n",
              "<div id=\"df-41b21878-848f-4c01-9e82-7c09da90b07a\">\n",
              "  <button class=\"colab-df-quickchart\" onclick=\"quickchart('df-41b21878-848f-4c01-9e82-7c09da90b07a')\"\n",
              "            title=\"Suggest charts\"\n",
              "            style=\"display:none;\">\n",
              "\n",
              "<svg xmlns=\"http://www.w3.org/2000/svg\" height=\"24px\"viewBox=\"0 0 24 24\"\n",
              "     width=\"24px\">\n",
              "    <g>\n",
              "        <path d=\"M19 3H5c-1.1 0-2 .9-2 2v14c0 1.1.9 2 2 2h14c1.1 0 2-.9 2-2V5c0-1.1-.9-2-2-2zM9 17H7v-7h2v7zm4 0h-2V7h2v10zm4 0h-2v-4h2v4z\"/>\n",
              "    </g>\n",
              "</svg>\n",
              "  </button>\n",
              "\n",
              "<style>\n",
              "  .colab-df-quickchart {\n",
              "      --bg-color: #E8F0FE;\n",
              "      --fill-color: #1967D2;\n",
              "      --hover-bg-color: #E2EBFA;\n",
              "      --hover-fill-color: #174EA6;\n",
              "      --disabled-fill-color: #AAA;\n",
              "      --disabled-bg-color: #DDD;\n",
              "  }\n",
              "\n",
              "  [theme=dark] .colab-df-quickchart {\n",
              "      --bg-color: #3B4455;\n",
              "      --fill-color: #D2E3FC;\n",
              "      --hover-bg-color: #434B5C;\n",
              "      --hover-fill-color: #FFFFFF;\n",
              "      --disabled-bg-color: #3B4455;\n",
              "      --disabled-fill-color: #666;\n",
              "  }\n",
              "\n",
              "  .colab-df-quickchart {\n",
              "    background-color: var(--bg-color);\n",
              "    border: none;\n",
              "    border-radius: 50%;\n",
              "    cursor: pointer;\n",
              "    display: none;\n",
              "    fill: var(--fill-color);\n",
              "    height: 32px;\n",
              "    padding: 0;\n",
              "    width: 32px;\n",
              "  }\n",
              "\n",
              "  .colab-df-quickchart:hover {\n",
              "    background-color: var(--hover-bg-color);\n",
              "    box-shadow: 0 1px 2px rgba(60, 64, 67, 0.3), 0 1px 3px 1px rgba(60, 64, 67, 0.15);\n",
              "    fill: var(--button-hover-fill-color);\n",
              "  }\n",
              "\n",
              "  .colab-df-quickchart-complete:disabled,\n",
              "  .colab-df-quickchart-complete:disabled:hover {\n",
              "    background-color: var(--disabled-bg-color);\n",
              "    fill: var(--disabled-fill-color);\n",
              "    box-shadow: none;\n",
              "  }\n",
              "\n",
              "  .colab-df-spinner {\n",
              "    border: 2px solid var(--fill-color);\n",
              "    border-color: transparent;\n",
              "    border-bottom-color: var(--fill-color);\n",
              "    animation:\n",
              "      spin 1s steps(1) infinite;\n",
              "  }\n",
              "\n",
              "  @keyframes spin {\n",
              "    0% {\n",
              "      border-color: transparent;\n",
              "      border-bottom-color: var(--fill-color);\n",
              "      border-left-color: var(--fill-color);\n",
              "    }\n",
              "    20% {\n",
              "      border-color: transparent;\n",
              "      border-left-color: var(--fill-color);\n",
              "      border-top-color: var(--fill-color);\n",
              "    }\n",
              "    30% {\n",
              "      border-color: transparent;\n",
              "      border-left-color: var(--fill-color);\n",
              "      border-top-color: var(--fill-color);\n",
              "      border-right-color: var(--fill-color);\n",
              "    }\n",
              "    40% {\n",
              "      border-color: transparent;\n",
              "      border-right-color: var(--fill-color);\n",
              "      border-top-color: var(--fill-color);\n",
              "    }\n",
              "    60% {\n",
              "      border-color: transparent;\n",
              "      border-right-color: var(--fill-color);\n",
              "    }\n",
              "    80% {\n",
              "      border-color: transparent;\n",
              "      border-right-color: var(--fill-color);\n",
              "      border-bottom-color: var(--fill-color);\n",
              "    }\n",
              "    90% {\n",
              "      border-color: transparent;\n",
              "      border-bottom-color: var(--fill-color);\n",
              "    }\n",
              "  }\n",
              "</style>\n",
              "\n",
              "  <script>\n",
              "    async function quickchart(key) {\n",
              "      const quickchartButtonEl =\n",
              "        document.querySelector('#' + key + ' button');\n",
              "      quickchartButtonEl.disabled = true;  // To prevent multiple clicks.\n",
              "      quickchartButtonEl.classList.add('colab-df-spinner');\n",
              "      try {\n",
              "        const charts = await google.colab.kernel.invokeFunction(\n",
              "            'suggestCharts', [key], {});\n",
              "      } catch (error) {\n",
              "        console.error('Error during call to suggestCharts:', error);\n",
              "      }\n",
              "      quickchartButtonEl.classList.remove('colab-df-spinner');\n",
              "      quickchartButtonEl.classList.add('colab-df-quickchart-complete');\n",
              "    }\n",
              "    (() => {\n",
              "      let quickchartButtonEl =\n",
              "        document.querySelector('#df-41b21878-848f-4c01-9e82-7c09da90b07a button');\n",
              "      quickchartButtonEl.style.display =\n",
              "        google.colab.kernel.accessAllowed ? 'block' : 'none';\n",
              "    })();\n",
              "  </script>\n",
              "</div>\n",
              "\n",
              "    </div>\n",
              "  </div>\n"
            ]
          },
          "metadata": {},
          "execution_count": 43
        }
      ]
    },
    {
      "cell_type": "code",
      "source": [
        "titanic_data.shape"
      ],
      "metadata": {
        "colab": {
          "base_uri": "https://localhost:8080/"
        },
        "id": "dgcSHsy2Q9xV",
        "outputId": "aa4bad23-fa19-4a37-d035-f048b0e14608"
      },
      "execution_count": null,
      "outputs": [
        {
          "output_type": "execute_result",
          "data": {
            "text/plain": [
              "(888, 9)"
            ]
          },
          "metadata": {},
          "execution_count": 44
        }
      ]
    },
    {
      "cell_type": "markdown",
      "source": [
        "##3. Combining Data\n",
        "\n",
        "Since we don't have any other additional datasets/tables to combine together. So we can proceed to the next phase of data science process."
      ],
      "metadata": {
        "id": "LR76C9geFisE"
      }
    },
    {
      "cell_type": "markdown",
      "source": [
        "#IV. Data Exploration"
      ],
      "metadata": {
        "id": "pGYUSxjlCBBr"
      }
    },
    {
      "cell_type": "markdown",
      "source": [
        "###Descriptive Statistical Analysis\n",
        "\n",
        "Let us perform descriptive statistical analysis on our dataset for measuring Central tendency, Spread/dispersion and Shape of distribution using `describe()` function."
      ],
      "metadata": {
        "id": "SES1eW95TFiw"
      }
    },
    {
      "cell_type": "code",
      "source": [
        "print(titanic_data.describe())"
      ],
      "metadata": {
        "colab": {
          "base_uri": "https://localhost:8080/"
        },
        "id": "uNvWAuHPT4PU",
        "outputId": "008449aa-fe7e-4f5d-c5fa-517774a9f274"
      },
      "execution_count": null,
      "outputs": [
        {
          "output_type": "stream",
          "name": "stdout",
          "text": [
            "         Survived      Pclass         Age       SibSp       Parch        Fare  \\\n",
            "count  888.000000  888.000000  888.000000  888.000000  888.000000  888.000000   \n",
            "mean     0.381757    2.313063   29.341408    0.524775    0.381757   30.582164   \n",
            "std      0.486091    0.834007   13.037026    1.104186    0.806949   41.176366   \n",
            "min      0.000000    1.000000    0.420000    0.000000    0.000000    0.000000   \n",
            "25%      0.000000    2.000000   22.000000    0.000000    0.000000    7.895800   \n",
            "50%      0.000000    3.000000   28.000000    0.000000    0.000000   14.454200   \n",
            "75%      1.000000    3.000000   35.000000    1.000000    0.000000   30.771850   \n",
            "max      1.000000    3.000000   80.000000    8.000000    6.000000  263.000000   \n",
            "\n",
            "         Sex_male  Embarked_Q  Embarked_S  \n",
            "count  888.000000  888.000000  888.000000  \n",
            "mean     0.647523    0.086712    0.727477  \n",
            "std      0.478011    0.281571    0.445508  \n",
            "min      0.000000    0.000000    0.000000  \n",
            "25%      0.000000    0.000000    0.000000  \n",
            "50%      1.000000    0.000000    1.000000  \n",
            "75%      1.000000    0.000000    1.000000  \n",
            "max      1.000000    1.000000    1.000000  \n"
          ]
        }
      ]
    },
    {
      "cell_type": "markdown",
      "source": [
        "###Visualizations\n",
        "Using visualizations to understand the distribution of features and relationships between them by creating various techniques like histograms, scatter plots, count plots, etc."
      ],
      "metadata": {
        "id": "fTEqnbjcWq4j"
      }
    },
    {
      "cell_type": "markdown",
      "source": [
        "Let us plot histogram to find the distribution of age among passengers."
      ],
      "metadata": {
        "id": "zeQe7HVBcmvT"
      }
    },
    {
      "cell_type": "code",
      "source": [
        "# Histogram for Age Distribution\n",
        "sns.histplot(titanic_data['Age'], bins=30, kde=True)\n",
        "plt.title('Distribution of Age')\n",
        "plt.show()"
      ],
      "metadata": {
        "colab": {
          "base_uri": "https://localhost:8080/",
          "height": 472
        },
        "id": "rsl1B8zBXUV8",
        "outputId": "4377ed0c-ef89-4c00-9115-4cca37355ca9"
      },
      "execution_count": null,
      "outputs": [
        {
          "output_type": "display_data",
          "data": {
            "text/plain": [
              "<Figure size 640x480 with 1 Axes>"
            ],
            "image/png": "[encoded data removed]"
          },
          "metadata": {}
        }
      ]
    },
    {
      "cell_type": "markdown",
      "source": [
        " Count plot to visualize the distribution of survived and not survived passengers."
      ],
      "metadata": {
        "id": "3cLXQ_i6ZFq7"
      }
    },
    {
      "cell_type": "code",
      "source": [
        "# Count plot for 'Survived'\n",
        "sns.countplot(x='Survived', data=titanic_data)\n",
        "plt.title('Distribution of Survived')\n",
        "plt.show()"
      ],
      "metadata": {
        "colab": {
          "base_uri": "https://localhost:8080/",
          "height": 472
        },
        "id": "3d5ag1kGXxW-",
        "outputId": "e6301b43-6a36-4a0c-e94b-f132a9e87adc"
      },
      "execution_count": null,
      "outputs": [
        {
          "output_type": "display_data",
          "data": {
            "text/plain": [
              "<Figure size 640x480 with 1 Axes>"
            ],
            "image/png": "[encoded data removed]"
          },
          "metadata": {}
        }
      ]
    },
    {
      "cell_type": "markdown",
      "source": [
        "Bar plot to find the rate of survival by Pclass"
      ],
      "metadata": {
        "id": "6UfxjmuQdHoz"
      }
    },
    {
      "cell_type": "code",
      "source": [
        "# Example: Percentage bar plot for 'Pclass'\n",
        "sns.barplot(x='Pclass', y='Survived', data=titanic_data)\n",
        "plt.title('Survival Rate by Pclass')\n",
        "plt.show()"
      ],
      "metadata": {
        "colab": {
          "base_uri": "https://localhost:8080/",
          "height": 472
        },
        "id": "t1JlLkq8aSpP",
        "outputId": "58a1f8a9-dd35-4c27-c14c-63ab4d9e79d4"
      },
      "execution_count": null,
      "outputs": [
        {
          "output_type": "display_data",
          "data": {
            "text/plain": [
              "<Figure size 640x480 with 1 Axes>"
            ],
            "image/png": "[encoded data removed]"
          },
          "metadata": {}
        }
      ]
    },
    {
      "cell_type": "markdown",
      "source": [
        "Horizontal bar chart for Count Vs Class"
      ],
      "metadata": {
        "id": "CUSY9ZgodWVK"
      }
    },
    {
      "cell_type": "code",
      "source": [
        "sns.barplot(x=titanic_data['Pclass'].value_counts(), y=['Class 3', 'Class 2', 'Class 1'])\n",
        "plt.title('Distribution of Passenger Classes')\n",
        "plt.xlabel('Count')\n",
        "plt.ylabel('Pclass')\n",
        "plt.show()"
      ],
      "metadata": {
        "colab": {
          "base_uri": "https://localhost:8080/",
          "height": 472
        },
        "id": "T9qgSBp7bNgS",
        "outputId": "03187efd-78de-413c-aac2-e30de500806d"
      },
      "execution_count": null,
      "outputs": [
        {
          "output_type": "display_data",
          "data": {
            "text/plain": [
              "<Figure size 640x480 with 1 Axes>"
            ],
            "image/png": "[encoded data removed]"
          },
          "metadata": {}
        }
      ]
    },
    {
      "cell_type": "markdown",
      "source": [
        "To explore the correlation between features, a correlation matrix can be used which will give us an idea of how different features are related."
      ],
      "metadata": {
        "id": "HrISHcE3WAWm"
      }
    },
    {
      "cell_type": "code",
      "source": [
        "correlation = titanic_data.corr()\n",
        "print(correlation)"
      ],
      "metadata": {
        "colab": {
          "base_uri": "https://localhost:8080/"
        },
        "id": "Qw8mhsB9VmL0",
        "outputId": "c4520b2e-7fc8-4805-dba2-e05702b49804"
      },
      "execution_count": null,
      "outputs": [
        {
          "output_type": "stream",
          "name": "stdout",
          "text": [
            "            Survived    Pclass       Age     SibSp     Parch      Fare  \\\n",
            "Survived    1.000000 -0.334068 -0.067081 -0.033395  0.082157  0.261742   \n",
            "Pclass     -0.334068  1.000000 -0.338998  0.080937  0.018212 -0.604960   \n",
            "Age        -0.067081 -0.338998  1.000000 -0.232732 -0.172623  0.098801   \n",
            "SibSp      -0.033395  0.080937 -0.232732  1.000000  0.415141  0.211816   \n",
            "Parch       0.082157  0.018212 -0.172623  0.415141  1.000000  0.263910   \n",
            "Fare        0.261742 -0.604960  0.098801  0.211816  0.263910  1.000000   \n",
            "Sex_male   -0.545899  0.132881  0.081203 -0.114799 -0.247003 -0.222361   \n",
            "Embarked_Q  0.004981  0.220331 -0.030954 -0.026861 -0.081351 -0.129578   \n",
            "Embarked_S -0.143763  0.066029 -0.004231  0.066452  0.060792 -0.132543   \n",
            "\n",
            "            Sex_male  Embarked_Q  Embarked_S  \n",
            "Survived   -0.545899    0.004981   -0.143763  \n",
            "Pclass      0.132881    0.220331    0.066029  \n",
            "Age         0.081203   -0.030954   -0.004231  \n",
            "SibSp      -0.114799   -0.026861    0.066452  \n",
            "Parch      -0.247003   -0.081351    0.060792  \n",
            "Fare       -0.222361   -0.129578   -0.132543  \n",
            "Sex_male    1.000000   -0.074207    0.120176  \n",
            "Embarked_Q -0.074207    1.000000   -0.503435  \n",
            "Embarked_S  0.120176   -0.503435    1.000000  \n"
          ]
        }
      ]
    },
    {
      "cell_type": "code",
      "source": [
        "# Creating a heatmap\n",
        "plt.figure(figsize=(10, 8))\n",
        "sns.heatmap(correlation, annot=True, cmap='coolwarm', fmt=\".2f\", linewidths=.5)\n",
        "plt.title('Correlation Matrix')\n",
        "plt.show()"
      ],
      "metadata": {
        "colab": {
          "base_uri": "https://localhost:8080/",
          "height": 773
        },
        "id": "-0tcY7xaWNYP",
        "outputId": "e11d9d88-bc46-4c61-c548-9d14364f2051"
      },
      "execution_count": null,
      "outputs": [
        {
          "output_type": "display_data",
          "data": {
            "text/plain": [
              "<Figure size 1000x800 with 2 Axes>"
            ],
            "image/png": "[encoded data removed]"
          },
          "metadata": {}
        }
      ]
    },
    {
      "cell_type": "markdown",
      "source": [
        "#V. Data Modeling"
      ],
      "metadata": {
        "id": "0yY9767oCBSE"
      }
    },
    {
      "cell_type": "markdown",
      "source": [
        "The next few steps in this phase are crucial for building a predictive model and it involves preparing the data for model training, selecting a model, training the model, and evaluating its performance."
      ],
      "metadata": {
        "id": "lvQlzQ6Yi2Ki"
      }
    },
    {
      "cell_type": "markdown",
      "source": [
        "##1. Model and Variable Selection"
      ],
      "metadata": {
        "id": "Snd69AaXGBmG"
      }
    },
    {
      "cell_type": "markdown",
      "source": [
        "Let `X` be the new dataframe which comprises of independent variables and `y` be the dependent or target variable of our `titanic_data`."
      ],
      "metadata": {
        "id": "IzpzdwucifZ3"
      }
    },
    {
      "cell_type": "code",
      "source": [
        "# Defining features (X) and target variable (y)\n",
        "X = titanic_data.drop('Survived', axis=1)\n",
        "y = titanic_data['Survived']"
      ],
      "metadata": {
        "id": "nNmb36CpiNba"
      },
      "execution_count": null,
      "outputs": []
    },
    {
      "cell_type": "markdown",
      "source": [
        "Let us split the dataset into Train and Test sets in 80 : 20 ratio."
      ],
      "metadata": {
        "id": "fLk3NfBKl0BA"
      }
    },
    {
      "cell_type": "code",
      "source": [
        "# Split the data into training and testing sets\n",
        "X_train, X_test, y_train, y_test = train_test_split(X, y, test_size=0.2, random_state=42)"
      ],
      "metadata": {
        "id": "STdsY7QCls48"
      },
      "execution_count": null,
      "outputs": []
    },
    {
      "cell_type": "markdown",
      "source": [
        "Let us train our data with different machine learning algorithms and will choose one best performing model among them."
      ],
      "metadata": {
        "id": "6tQALUQRLprQ"
      }
    },
    {
      "cell_type": "code",
      "source": [
        "#Random State\n",
        "np.random.seed(42)\n",
        "\n",
        "# Initializing and Training the RandomForest model\n",
        "randomForest = RandomForestClassifier(random_state=42)\n",
        "randomForest.fit(X_train, y_train)\n",
        "\n",
        "# Initializing and Training the Logistic Regression model\n",
        "logReg = LogisticRegression(random_state=42, max_iter=1000)\n",
        "logReg.fit(X_train, y_train)\n",
        "\n",
        "# Initializing and Training the Decision Trees model\n",
        "decisionTree = DecisionTreeClassifier(random_state=42)\n",
        "decisionTree.fit(X_train, y_train)\n",
        "\n",
        "# Initializing and Training the Support Vector Machines (SVM) model\n",
        "svm = SVC(random_state=42)\n",
        "svm.fit(X_train, y_train)\n",
        "\n",
        "# Initializing and Training the Gaussian Naive Bayes model\n",
        "gaussian = GaussianNB()\n",
        "gaussian.fit(X_train, y_train)\n",
        "\n",
        "# Initializing and Training the K-Nearest Neighbors (KNN) model\n",
        "knn = KNeighborsClassifier()\n",
        "knn.fit(X_train, y_train)"
      ],
      "metadata": {
        "id": "PllZAGspLZm7",
        "colab": {
          "base_uri": "https://localhost:8080/",
          "height": 75
        },
        "outputId": "7a47e6b9-1f22-4c9a-9141-17ccab50f241"
      },
      "execution_count": null,
      "outputs": [
        {
          "output_type": "execute_result",
          "data": {
            "text/plain": [
              "KNeighborsClassifier()"
            ],
            "text/html": [
              "<style>#sk-container-id-2 {color: black;background-color: white;}#sk-container-id-2 pre{padding: 0;}#sk-container-id-2 div.sk-toggleable {background-color: white;}#sk-container-id-2 label.sk-toggleable__label {cursor: pointer;display: block;width: 100%;margin-bottom: 0;padding: 0.3em;box-sizing: border-box;text-align: center;}#sk-container-id-2 label.sk-toggleable__label-arrow:before {content: \"▸\";float: left;margin-right: 0.25em;color: #696969;}#sk-container-id-2 label.sk-toggleable__label-arrow:hover:before {color: black;}#sk-container-id-2 div.sk-estimator:hover label.sk-toggleable__label-arrow:before {color: black;}#sk-container-id-2 div.sk-toggleable__content {max-height: 0;max-width: 0;overflow: hidden;text-align: left;background-color: #f0f8ff;}#sk-container-id-2 div.sk-toggleable__content pre {margin: 0.2em;color: black;border-radius: 0.25em;background-color: #f0f8ff;}#sk-container-id-2 input.sk-toggleable__control:checked~div.sk-toggleable__content {max-height: 200px;max-width: 100%;overflow: auto;}#sk-container-id-2 input.sk-toggleable__control:checked~label.sk-toggleable__label-arrow:before {content: \"▾\";}#sk-container-id-2 div.sk-estimator input.sk-toggleable__control:checked~label.sk-toggleable__label {background-color: #d4ebff;}#sk-container-id-2 div.sk-label input.sk-toggleable__control:checked~label.sk-toggleable__label {background-color: #d4ebff;}#sk-container-id-2 input.sk-hidden--visually {border: 0;clip: rect(1px 1px 1px 1px);clip: rect(1px, 1px, 1px, 1px);height: 1px;margin: -1px;overflow: hidden;padding: 0;position: absolute;width: 1px;}#sk-container-id-2 div.sk-estimator {font-family: monospace;background-color: #f0f8ff;border: 1px dotted black;border-radius: 0.25em;box-sizing: border-box;margin-bottom: 0.5em;}#sk-container-id-2 div.sk-estimator:hover {background-color: #d4ebff;}#sk-container-id-2 div.sk-parallel-item::after {content: \"\";width: 100%;border-bottom: 1px solid gray;flex-grow: 1;}#sk-container-id-2 div.sk-label:hover label.sk-toggleable__label {background-color: #d4ebff;}#sk-container-id-2 div.sk-serial::before {content: \"\";position: absolute;border-left: 1px solid gray;box-sizing: border-box;top: 0;bottom: 0;left: 50%;z-index: 0;}#sk-container-id-2 div.sk-serial {display: flex;flex-direction: column;align-items: center;background-color: white;padding-right: 0.2em;padding-left: 0.2em;position: relative;}#sk-container-id-2 div.sk-item {position: relative;z-index: 1;}#sk-container-id-2 div.sk-parallel {display: flex;align-items: stretch;justify-content: center;background-color: white;position: relative;}#sk-container-id-2 div.sk-item::before, #sk-container-id-2 div.sk-parallel-item::before {content: \"\";position: absolute;border-left: 1px solid gray;box-sizing: border-box;top: 0;bottom: 0;left: 50%;z-index: -1;}#sk-container-id-2 div.sk-parallel-item {display: flex;flex-direction: column;z-index: 1;position: relative;background-color: white;}#sk-container-id-2 div.sk-parallel-item:first-child::after {align-self: flex-end;width: 50%;}#sk-container-id-2 div.sk-parallel-item:last-child::after {align-self: flex-start;width: 50%;}#sk-container-id-2 div.sk-parallel-item:only-child::after {width: 0;}#sk-container-id-2 div.sk-dashed-wrapped {border: 1px dashed gray;margin: 0 0.4em 0.5em 0.4em;box-sizing: border-box;padding-bottom: 0.4em;background-color: white;}#sk-container-id-2 div.sk-label label {font-family: monospace;font-weight: bold;display: inline-block;line-height: 1.2em;}#sk-container-id-2 div.sk-label-container {text-align: center;}#sk-container-id-2 div.sk-container {/* jupyter's `normalize.less` sets `[hidden] { display: none; }` but bootstrap.min.css set `[hidden] { display: none !important; }` so we also need the `!important` here to be able to override the default hidden behavior on the sphinx rendered scikit-learn.org. See: https://github.com/scikit-learn/scikit-learn/issues/21755 */display: inline-block !important;position: relative;}#sk-container-id-2 div.sk-text-repr-fallback {display: none;}</style><div id=\"sk-container-id-2\" class=\"sk-top-container\"><div class=\"sk-text-repr-fallback\"><pre>KNeighborsClassifier()</pre><b>In a Jupyter environment, please rerun this cell to show the HTML representation or trust the notebook. <br />On GitHub, the HTML representation is unable to render, please try loading this page with nbviewer.org.</b></div><div class=\"sk-container\" hidden><div class=\"sk-item\"><div class=\"sk-estimator sk-toggleable\"><input class=\"sk-toggleable__control sk-hidden--visually\" id=\"sk-estimator-id-2\" type=\"checkbox\" checked><label for=\"sk-estimator-id-2\" class=\"sk-toggleable__label sk-toggleable__label-arrow\">KNeighborsClassifier</label><div class=\"sk-toggleable__content\"><pre>KNeighborsClassifier()</pre></div></div></div></div></div>"
            ]
          },
          "metadata": {},
          "execution_count": 54
        }
      ]
    },
    {
      "cell_type": "markdown",
      "source": [
        "##2. Model Execution"
      ],
      "metadata": {
        "id": "ofHiaOKYGBL1"
      }
    },
    {
      "cell_type": "markdown",
      "source": [
        "Let us test all the built models using test data."
      ],
      "metadata": {
        "id": "3MmN5e3NNZSG"
      }
    },
    {
      "cell_type": "code",
      "source": [
        "# Predictions on the testing set\n",
        "y_pred_random = randomForest.predict(X_test)\n",
        "\n",
        "y_pred_logReg = logReg.predict(X_test)\n",
        "\n",
        "y_pred_decisionTree = decisionTree.predict(X_test)\n",
        "\n",
        "y_pred_svm = svm.predict(X_test)\n",
        "\n",
        "y_pred_gaussian = gaussian.predict(X_test)\n",
        "\n",
        "y_pred_knn = knn.predict(X_test)"
      ],
      "metadata": {
        "id": "pRpI36QrM-rn"
      },
      "execution_count": null,
      "outputs": []
    },
    {
      "cell_type": "markdown",
      "source": [
        "##3. Model Diagnostic and Comparison"
      ],
      "metadata": {
        "id": "-bc7MnBQGApb"
      }
    },
    {
      "cell_type": "markdown",
      "source": [
        "Let us evaluate the model's performance on the testing set using metrics such as accuracy, precision, recall, and F1 score."
      ],
      "metadata": {
        "id": "IcqcGznINhwK"
      }
    },
    {
      "cell_type": "code",
      "source": [
        "#Performance matrices for Random Forest\n",
        "train_accuracy = accuracy_score(y_train, randomForest.predict(X_train))\n",
        "test_accuracy = accuracy_score(y_test, y_pred_random)\n",
        "classification_rep = classification_report(y_test, y_pred_random)\n",
        "\n",
        "print(\"Random Forest\")\n",
        "print(\"Train Accuracy:\", train_accuracy)\n",
        "print(\"Test Accuracy:\", test_accuracy)\n",
        "print(\"\\nClassification Report:\")\n",
        "print(classification_rep)"
      ],
      "metadata": {
        "colab": {
          "base_uri": "https://localhost:8080/"
        },
        "id": "MT25pY6fMunq",
        "outputId": "2281fe3f-a1dd-4edb-ec5e-72516a775866"
      },
      "execution_count": null,
      "outputs": [
        {
          "output_type": "stream",
          "name": "stdout",
          "text": [
            "Random Forest\n",
            "Train Accuracy: 0.9830985915492958\n",
            "Test Accuracy: 0.8202247191011236\n",
            "\n",
            "Classification Report:\n",
            "              precision    recall  f1-score   support\n",
            "\n",
            "           0       0.86      0.83      0.84       104\n",
            "           1       0.77      0.81      0.79        74\n",
            "\n",
            "    accuracy                           0.82       178\n",
            "   macro avg       0.81      0.82      0.82       178\n",
            "weighted avg       0.82      0.82      0.82       178\n",
            "\n"
          ]
        }
      ]
    },
    {
      "cell_type": "code",
      "source": [
        "# Confusion matrix for Random Forest\n",
        "conf_matrix = confusion_matrix(y_test, y_pred_random)\n",
        "\n",
        "# Creating a heatmap\n",
        "plt.figure(figsize=(8, 6))\n",
        "sns.heatmap(conf_matrix, annot=True, fmt='d', cmap='Blues', cbar=False)\n",
        "plt.title('Confusion Matrix - Random Forest')\n",
        "plt.xlabel('Predicted Label')\n",
        "plt.ylabel('True Label')\n",
        "plt.show()"
      ],
      "metadata": {
        "colab": {
          "base_uri": "https://localhost:8080/",
          "height": 564
        },
        "id": "qUeIyUw3P0I0",
        "outputId": "d7c3a34f-7127-4b5b-a9b5-197cada06cbc"
      },
      "execution_count": null,
      "outputs": [
        {
          "output_type": "display_data",
          "data": {
            "text/plain": [
              "<Figure size 800x600 with 1 Axes>"
            ],
            "image/png": "[encoded data removed]"
          },
          "metadata": {}
        }
      ]
    },
    {
      "cell_type": "code",
      "source": [
        "#Performance matrices for Logistic Regression\n",
        "\n",
        "train_accuracy = accuracy_score(y_train, logReg.predict(X_train))\n",
        "test_accuracy = accuracy_score(y_test, y_pred_logReg)\n",
        "classification_rep = classification_report(y_test, y_pred_logReg)\n",
        "\n",
        "print(\"Logistic Regression\")\n",
        "print(\"Train Accuracy:\", train_accuracy)\n",
        "print(\"Test Accuracy:\", test_accuracy)\n",
        "print(\"\\nClassification Report:\")\n",
        "print(classification_rep)"
      ],
      "metadata": {
        "colab": {
          "base_uri": "https://localhost:8080/"
        },
        "outputId": "11b85d01-b2f9-4fa5-d2e7-e80289cfb906",
        "id": "3e_hv3GKxt8u"
      },
      "execution_count": null,
      "outputs": [
        {
          "output_type": "stream",
          "name": "stdout",
          "text": [
            "Logistic Regression\n",
            "Train Accuracy: 0.7915492957746478\n",
            "Test Accuracy: 0.8146067415730337\n",
            "\n",
            "Classification Report:\n",
            "              precision    recall  f1-score   support\n",
            "\n",
            "           0       0.86      0.82      0.84       104\n",
            "           1       0.76      0.81      0.78        74\n",
            "\n",
            "    accuracy                           0.81       178\n",
            "   macro avg       0.81      0.81      0.81       178\n",
            "weighted avg       0.82      0.81      0.82       178\n",
            "\n"
          ]
        }
      ]
    },
    {
      "cell_type": "code",
      "source": [
        "# Confusion matrix for Logistic Regression\n",
        "conf_matrix = confusion_matrix(y_test, y_pred_logReg)\n",
        "\n",
        "# Creating a heatmap\n",
        "plt.figure(figsize=(8, 6))\n",
        "sns.heatmap(conf_matrix, annot=True, fmt='d', cmap='Blues', cbar=False)\n",
        "plt.title('Confusion Matrix - Logistic Regression')\n",
        "plt.xlabel('Predicted Label')\n",
        "plt.ylabel('True Label')\n",
        "plt.show()"
      ],
      "metadata": {
        "colab": {
          "base_uri": "https://localhost:8080/",
          "height": 564
        },
        "outputId": "a62b3c46-e793-4efa-a038-cdafa5c3ec8e",
        "id": "SrMWjgxzzzmX"
      },
      "execution_count": null,
      "outputs": [
        {
          "output_type": "display_data",
          "data": {
            "text/plain": [
              "<Figure size 800x600 with 1 Axes>"
            ],
            "image/png": "[encoded data removed]"
          },
          "metadata": {}
        }
      ]
    },
    {
      "cell_type": "code",
      "source": [
        "#Performance matrices for Decision Tree Classifier\n",
        "train_accuracy = accuracy_score(y_train, decisionTree.predict(X_train))\n",
        "test_accuracy = accuracy_score(y_test, y_pred_decisionTree)\n",
        "classification_rep = classification_report(y_test, y_pred_decisionTree)\n",
        "\n",
        "print(\"Decision Tree Classifier\")\n",
        "print(\"Train Accuracy:\", train_accuracy)\n",
        "print(\"Test Accuracy:\", test_accuracy)\n",
        "print(\"\\nClassification Report:\")\n",
        "print(classification_rep)"
      ],
      "metadata": {
        "colab": {
          "base_uri": "https://localhost:8080/"
        },
        "outputId": "19fae5c4-8617-41d1-c394-33bf675a4443",
        "id": "uAAOtLcvxvXl"
      },
      "execution_count": null,
      "outputs": [
        {
          "output_type": "stream",
          "name": "stdout",
          "text": [
            "Decision Tree Classifier\n",
            "Train Accuracy: 0.9830985915492958\n",
            "Test Accuracy: 0.7808988764044944\n",
            "\n",
            "Classification Report:\n",
            "              precision    recall  f1-score   support\n",
            "\n",
            "           0       0.82      0.80      0.81       104\n",
            "           1       0.73      0.76      0.74        74\n",
            "\n",
            "    accuracy                           0.78       178\n",
            "   macro avg       0.77      0.78      0.78       178\n",
            "weighted avg       0.78      0.78      0.78       178\n",
            "\n"
          ]
        }
      ]
    },
    {
      "cell_type": "code",
      "source": [
        "# Confusion matrix for Decision Tree Classifier\n",
        "conf_matrix = confusion_matrix(y_test, y_pred_decisionTree)\n",
        "\n",
        "# Creating a heatmap\n",
        "plt.figure(figsize=(8, 6))\n",
        "sns.heatmap(conf_matrix, annot=True, fmt='d', cmap='Blues', cbar=False)\n",
        "plt.title('Confusion Matrix - Decision Tree Classifier')\n",
        "plt.xlabel('Predicted Label')\n",
        "plt.ylabel('True Label')\n",
        "plt.show()"
      ],
      "metadata": {
        "colab": {
          "base_uri": "https://localhost:8080/",
          "height": 564
        },
        "outputId": "78fb3b12-b197-43fd-adb0-2f77df7064ff",
        "id": "4tdGUZb_zz-3"
      },
      "execution_count": null,
      "outputs": [
        {
          "output_type": "display_data",
          "data": {
            "text/plain": [
              "<Figure size 800x600 with 1 Axes>"
            ],
            "image/png": "[encoded data removed]"
          },
          "metadata": {}
        }
      ]
    },
    {
      "cell_type": "code",
      "source": [
        "#Performance matrices for Support Vector Machines (Support Vector Classification)\n",
        "train_accuracy = accuracy_score(y_train, svm.predict(X_train))\n",
        "test_accuracy = accuracy_score(y_test, y_pred_svm)\n",
        "classification_rep = classification_report(y_test, y_pred_svm)\n",
        "\n",
        "print(\"Support Vector Machines (Support Vector Classification)\")\n",
        "print(\"Train Accuracy:\", train_accuracy)\n",
        "print(\"Test Accuracy:\", test_accuracy)\n",
        "print(\"\\nClassification Report:\")\n",
        "print(classification_rep)"
      ],
      "metadata": {
        "colab": {
          "base_uri": "https://localhost:8080/"
        },
        "outputId": "82bcc65e-3725-4f85-833b-b7b55161cd5c",
        "id": "TnLbEek1xv_M"
      },
      "execution_count": null,
      "outputs": [
        {
          "output_type": "stream",
          "name": "stdout",
          "text": [
            "Support Vector Machines (Support Vector Classification)\n",
            "Train Accuracy: 0.6873239436619718\n",
            "Test Accuracy: 0.6348314606741573\n",
            "\n",
            "Classification Report:\n",
            "              precision    recall  f1-score   support\n",
            "\n",
            "           0       0.63      0.90      0.74       104\n",
            "           1       0.66      0.26      0.37        74\n",
            "\n",
            "    accuracy                           0.63       178\n",
            "   macro avg       0.64      0.58      0.56       178\n",
            "weighted avg       0.64      0.63      0.59       178\n",
            "\n"
          ]
        }
      ]
    },
    {
      "cell_type": "code",
      "source": [
        "# Confusion matrix for SVM\n",
        "conf_matrix = confusion_matrix(y_test, y_pred_svm)\n",
        "\n",
        "# Creating a heatmap\n",
        "plt.figure(figsize=(8, 6))\n",
        "sns.heatmap(conf_matrix, annot=True, fmt='d', cmap='Blues', cbar=False)\n",
        "plt.title('Confusion Matrix - SVM (Support Vector Classification)')\n",
        "plt.xlabel('Predicted Label')\n",
        "plt.ylabel('True Label')\n",
        "plt.show()"
      ],
      "metadata": {
        "colab": {
          "base_uri": "https://localhost:8080/",
          "height": 564
        },
        "outputId": "7c0a57ba-ba03-4f15-a6ae-67d698f71a9f",
        "id": "Vbaim9Gkz0ri"
      },
      "execution_count": null,
      "outputs": [
        {
          "output_type": "display_data",
          "data": {
            "text/plain": [
              "<Figure size 800x600 with 1 Axes>"
            ],
            "image/png": "[encoded data removed]"
          },
          "metadata": {}
        }
      ]
    },
    {
      "cell_type": "code",
      "source": [
        "#Performance matrices for Gaussian Naive Bayes\n",
        "train_accuracy = accuracy_score(y_train, gaussian.predict(X_train))\n",
        "test_accuracy = accuracy_score(y_test, y_pred_gaussian)\n",
        "classification_rep = classification_report(y_test, y_pred_gaussian)\n",
        "\n",
        "print(\"Gaussian Naive Bayes\")\n",
        "print(\"Train Accuracy:\", train_accuracy)\n",
        "print(\"Test Accuracy:\", test_accuracy)\n",
        "print(\"\\nClassification Report:\")\n",
        "print(classification_rep)"
      ],
      "metadata": {
        "colab": {
          "base_uri": "https://localhost:8080/"
        },
        "outputId": "f1bcd4d3-8eb5-4d16-8d62-89c34abafadb",
        "id": "Z48L7i48xwPF"
      },
      "execution_count": null,
      "outputs": [
        {
          "output_type": "stream",
          "name": "stdout",
          "text": [
            "Gaussian Naive Bayes\n",
            "Train Accuracy: 0.7845070422535211\n",
            "Test Accuracy: 0.7921348314606742\n",
            "\n",
            "Classification Report:\n",
            "              precision    recall  f1-score   support\n",
            "\n",
            "           0       0.85      0.79      0.82       104\n",
            "           1       0.73      0.80      0.76        74\n",
            "\n",
            "    accuracy                           0.79       178\n",
            "   macro avg       0.79      0.79      0.79       178\n",
            "weighted avg       0.80      0.79      0.79       178\n",
            "\n"
          ]
        }
      ]
    },
    {
      "cell_type": "code",
      "source": [
        "# Confusion matrix for Gaussian Naive Bayes\n",
        "conf_matrix = confusion_matrix(y_test, y_pred_gaussian)\n",
        "\n",
        "# Creating a heatmap\n",
        "plt.figure(figsize=(8, 6))\n",
        "sns.heatmap(conf_matrix, annot=True, fmt='d', cmap='Blues', cbar=False)\n",
        "plt.title('Confusion Matrix - Gaussian Naive Bayes')\n",
        "plt.xlabel('Predicted Label')\n",
        "plt.ylabel('True Label')\n",
        "plt.show()"
      ],
      "metadata": {
        "colab": {
          "base_uri": "https://localhost:8080/",
          "height": 564
        },
        "outputId": "7b15d881-07da-45a2-ca1a-cbd4ec5bdf5b",
        "id": "Ie_wlxUiz084"
      },
      "execution_count": null,
      "outputs": [
        {
          "output_type": "display_data",
          "data": {
            "text/plain": [
              "<Figure size 800x600 with 1 Axes>"
            ],
            "image/png": "[encoded data removed]"
          },
          "metadata": {}
        }
      ]
    },
    {
      "cell_type": "code",
      "source": [
        "#Performance matrices for k-Nearest Neighbors\n",
        "train_accuracy = accuracy_score(y_train, knn.predict(X_train))\n",
        "test_accuracy = accuracy_score(y_test, y_pred_knn)\n",
        "classification_rep = classification_report(y_test, y_pred_knn)\n",
        "\n",
        "print(\"k-Nearest Neighbors\")\n",
        "print(\"Train Accuracy:\", train_accuracy)\n",
        "print(\"Test Accuracy:\", test_accuracy)\n",
        "print(\"\\nClassification Report:\")\n",
        "print(classification_rep)"
      ],
      "metadata": {
        "colab": {
          "base_uri": "https://localhost:8080/"
        },
        "outputId": "febe9f09-5c7c-4330-ed1a-32ca18db9a61",
        "id": "0nLkt99rxwei"
      },
      "execution_count": null,
      "outputs": [
        {
          "output_type": "stream",
          "name": "stdout",
          "text": [
            "k-Nearest Neighbors\n",
            "Train Accuracy: 0.7887323943661971\n",
            "Test Accuracy: 0.7359550561797753\n",
            "\n",
            "Classification Report:\n",
            "              precision    recall  f1-score   support\n",
            "\n",
            "           0       0.74      0.86      0.79       104\n",
            "           1       0.74      0.57      0.64        74\n",
            "\n",
            "    accuracy                           0.74       178\n",
            "   macro avg       0.74      0.71      0.72       178\n",
            "weighted avg       0.74      0.74      0.73       178\n",
            "\n"
          ]
        }
      ]
    },
    {
      "cell_type": "code",
      "source": [
        "# Confusion matrix for KNN\n",
        "conf_matrix = confusion_matrix(y_test, y_pred_knn)\n",
        "\n",
        "# Creating a heatmap\n",
        "plt.figure(figsize=(8, 6))\n",
        "sns.heatmap(conf_matrix, annot=True, fmt='d', cmap='Blues', cbar=False)\n",
        "plt.title('Confusion Matrix - K-Nearest Neighbors')\n",
        "plt.xlabel('Predicted Label')\n",
        "plt.ylabel('True Label')\n",
        "plt.show()"
      ],
      "metadata": {
        "colab": {
          "base_uri": "https://localhost:8080/",
          "height": 564
        },
        "outputId": "f51df2df-b63f-45d4-a452-c71cb01fc1f0",
        "id": "dIoa1skJz1WX"
      },
      "execution_count": null,
      "outputs": [
        {
          "output_type": "display_data",
          "data": {
            "text/plain": [
              "<Figure size 800x600 with 1 Axes>"
            ],
            "image/png": "[encoded data removed]"
          },
          "metadata": {}
        }
      ]
    },
    {
      "cell_type": "markdown",
      "source": [
        "#VI. Automation and Presentation"
      ],
      "metadata": {
        "id": "Qgx4XHHQERPN"
      }
    },
    {
      "cell_type": "markdown",
      "source": [
        "##Automation"
      ],
      "metadata": {
        "id": "lB9Dxhn-XDfG"
      }
    },
    {
      "cell_type": "markdown",
      "source": [
        "From the above comparisons between trained models, the best performing model selected for automation is Random Forest."
      ],
      "metadata": {
        "id": "H-3lWybtQHwm"
      }
    },
    {
      "cell_type": "code",
      "source": [
        "def make_predictions(new_data):\n",
        "    predictions = randomForest.predict(new_data)\n",
        "    return predictions\n",
        "\n",
        "# Example use case\n",
        "new_data = pd.DataFrame({\n",
        "    'Pclass': [1, 3],\n",
        "    'Age': [25, 30],\n",
        "    'SibSp': [1, 0],\n",
        "    'Parch': [0, 1],\n",
        "    'Fare': [7.5, 50.0],\n",
        "    'Sex_male': [1, 0],\n",
        "    'Embarked_Q': [1, 0],\n",
        "    'Embarked_S': [0, 0]\n",
        "})\n",
        "\n",
        "predictions = make_predictions(new_data)\n",
        "print(new_data)\n",
        "print(\"\\nResults: 0 - Not Survived; 1 - Survived\")\n",
        "print(predictions)"
      ],
      "metadata": {
        "colab": {
          "base_uri": "https://localhost:8080/"
        },
        "id": "rRBb-_2ELPfs",
        "outputId": "9210f5bd-f459-4548-a3ae-2a9aac2819be"
      },
      "execution_count": null,
      "outputs": [
        {
          "output_type": "stream",
          "name": "stdout",
          "text": [
            "   Pclass  Age  SibSp  Parch  Fare  Sex_male  Embarked_Q  Embarked_S\n",
            "0       1   25      1      0   7.5         1           1           0\n",
            "1       3   30      0      1  50.0         0           0           0\n",
            "\n",
            "Results: 0 - Not Survived; 1 - Survived\n",
            "[0 1]\n"
          ]
        }
      ]
    },
    {
      "cell_type": "code",
      "source": [
        "# Save the model\n",
        "dump(randomForest, 'trained_model.joblib')\n",
        "\n",
        "# Load the model for predictions\n",
        "loaded_model = load('trained_model.joblib')\n",
        "new_predictions = loaded_model.predict(new_data)\n",
        "new_predictions"
      ],
      "metadata": {
        "colab": {
          "base_uri": "https://localhost:8080/"
        },
        "id": "mZ1xq7qURs9J",
        "outputId": "767b1fe4-6f8a-4e86-9ebf-7fd283f6853c"
      },
      "execution_count": null,
      "outputs": [
        {
          "output_type": "execute_result",
          "data": {
            "text/plain": [
              "array([0, 1])"
            ]
          },
          "metadata": {},
          "execution_count": 69
        }
      ]
    },
    {
      "cell_type": "markdown",
      "source": [
        "##Presentation\n",
        "\n",
        "I used Google Colab to create presentations, which provide an interactive way to share findings. I incorporated code, visualizations, and explanations within the analyses."
      ],
      "metadata": {
        "id": "RyQC_g4BXMdA"
      }
    },
    {
      "cell_type": "markdown",
      "source": [
        "#**Conclusion**\n",
        "\n",
        "\n",
        "In concluding the exploration of Titanic survival predictions, I employed machine learning techniques to find out patterns and insights. This analysis not only provides a predictive model but also offers a glimpse into the factors that played a role in the fate of the passengers aboard the Titanic.\n",
        "\n",
        "**Key takeaways** from this analysis include the importance of\n",
        "1. socio-economic class,\n",
        "2. gender, and\n",
        "3. age in influencing survival rates.\n",
        "\n",
        "The application of machine learning algorithms, such as Random Forest, Logistic Regression, and k-Nearest Neighbors, has allowed me to model and predict outcomes based on historical data."
      ],
      "metadata": {
        "id": "o-tonCPOGcnD"
      }
    }
  ]
}